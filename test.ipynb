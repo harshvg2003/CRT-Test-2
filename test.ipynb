{
 "cells": [
  {
   "cell_type": "code",
   "execution_count": 8,
   "metadata": {},
   "outputs": [],
   "source": [
    "from sklearn.datasets import make_classification\n",
    "from sklearn.ensemble import RandomForestClassifier\n",
    "from sklearn.metrics import confusion_matrix, classification_report\n",
    "from sklearn.datasets import load_breast_cancer\n",
    "from sklearn.model_selection import train_test_split\n",
    "from sklearn.ensemble import BaggingClassifier, AdaBoostClassifier\n",
    "from sklearn.tree import DecisionTreeClassifier\n",
    "from sklearn.metrics import accuracy_score, precision_score, recall_score\n"
   ]
  },
  {
   "cell_type": "markdown",
   "metadata": {},
   "source": [
    "# QUESTION  7"
   ]
  },
  {
   "cell_type": "code",
   "execution_count": 9,
   "metadata": {},
   "outputs": [
    {
     "name": "stdout",
     "output_type": "stream",
     "text": [
      "Bagging Classifier Metrics:\n",
      "{'Accuracy': 0.9590643274853801, 'Precision': 0.963302752293578, 'Recall': 0.9722222222222222}\n",
      "\n",
      "AdaBoost Classifier Metrics:\n",
      "{'Accuracy': 0.9707602339181286, 'Precision': 0.9813084112149533, 'Recall': 0.9722222222222222}\n"
     ]
    }
   ],
   "source": [
    "data = load_breast_cancer()\n",
    "X, y = data.data, data.target\n",
    "\n",
    "X_train, X_test, y_train, y_test = train_test_split(X, y, test_size=0.3, random_state=42)\n",
    "\n",
    "bagging = BaggingClassifier(estimator=DecisionTreeClassifier(), n_estimators=50, random_state=42)\n",
    "bagging.fit(X_train, y_train)\n",
    "y_pred_bag = bagging.predict(X_test)\n",
    "\n",
    "adaboost = AdaBoostClassifier(estimator=DecisionTreeClassifier(max_depth=1), n_estimators=50, random_state=42)\n",
    "adaboost.fit(X_train, y_train)\n",
    "y_pred_ada = adaboost.predict(X_test)\n",
    "\n",
    "def get_metrics(y_true, y_pred):\n",
    "    return {\n",
    "        \"Accuracy\": accuracy_score(y_true, y_pred),\n",
    "        \"Precision\": precision_score(y_true, y_pred),\n",
    "        \"Recall\": recall_score(y_true, y_pred)\n",
    "    }\n",
    "\n",
    "bagging_metrics = get_metrics(y_test, y_pred_bag)\n",
    "adaboost_metrics = get_metrics(y_test, y_pred_ada)\n",
    "\n",
    "print(\"Bagging Classifier Metrics:\")\n",
    "print(bagging_metrics)\n",
    "\n",
    "print(\"\\nAdaBoost Classifier Metrics:\")\n",
    "print(adaboost_metrics)\n"
   ]
  },
  {
   "cell_type": "markdown",
   "metadata": {},
   "source": [
    "# QUESTION 8"
   ]
  },
  {
   "cell_type": "code",
   "execution_count": 10,
   "metadata": {},
   "outputs": [
    {
     "name": "stdout",
     "output_type": "stream",
     "text": [
      "Confusion Matrix:\n",
      " [[274   2]\n",
      " [  3  21]]\n",
      "\n",
      "Classification Report:\n",
      "               precision    recall  f1-score   support\n",
      "\n",
      "           0       0.99      0.99      0.99       276\n",
      "           1       0.91      0.88      0.89        24\n",
      "\n",
      "    accuracy                           0.98       300\n",
      "   macro avg       0.95      0.93      0.94       300\n",
      "weighted avg       0.98      0.98      0.98       300\n",
      "\n"
     ]
    }
   ],
   "source": [
    "X, y = make_classification(n_samples=1000, n_features=20, n_informative=2,\n",
    "                           n_redundant=10, n_clusters_per_class=1,\n",
    "                           weights=[0.9, 0.1], flip_y=0, random_state=42)\n",
    "\n",
    "X_train, X_test, y_train, y_test = train_test_split(X, y, test_size=0.3, random_state=42)\n",
    "\n",
    "model = RandomForestClassifier(random_state=42)\n",
    "model.fit(X_train, y_train)\n",
    "\n",
    "y_pred = model.predict(X_test)\n",
    "\n",
    "conf_matrix = confusion_matrix(y_test, y_pred)\n",
    "report = classification_report(y_test, y_pred)\n",
    "\n",
    "print(\"Confusion Matrix:\\n\", conf_matrix)\n",
    "print(\"\\nClassification Report:\\n\", report)\n"
   ]
  },
  {
   "cell_type": "markdown",
   "metadata": {},
   "source": [
    "# Question 18"
   ]
  },
  {
   "cell_type": "code",
   "execution_count": null,
   "metadata": {},
   "outputs": [
    {
     "name": "stdout",
     "output_type": "stream",
     "text": [
      "Brand: Toyota\n",
      "Color: Red\n",
      "Model: Camry\n"
     ]
    }
   ],
   "source": [
    "class Vehicle:\n",
    "    def __init__(self, brand, color):\n",
    "        self.brand = brand\n",
    "        self.color = color\n",
    "\n",
    "    def display_info(self):\n",
    "        print(f\"Brand: {self.brand}\")\n",
    "        print(f\"Color: {self.color}\")\n",
    "\n",
    "class Car(Vehicle):\n",
    "    def __init__(self, brand, color, model):\n",
    "        super().__init__(brand, color)  \n",
    "        self.model = model\n",
    "\n",
    "    def display_info(self):\n",
    "        super().display_info()  \n",
    "        print(f\"Model: {self.model}\")\n",
    "\n",
    "\n",
    "my_car = Car(\"Toyota\", \"Red\", \"Camry\")\n",
    "my_car.display_info()\n"
   ]
  },
  {
   "cell_type": "markdown",
   "metadata": {},
   "source": [
    "# Question  19"
   ]
  },
  {
   "cell_type": "code",
   "execution_count": null,
   "metadata": {},
   "outputs": [
    {
     "name": "stdout",
     "output_type": "stream",
     "text": [
      "Name: Harsh\n",
      "Marks: 85\n",
      "Current Marks: 85\n",
      "Name: Harsh\n",
      "Marks: 95\n",
      "Invalid marks! Must be between 0 and 100.\n"
     ]
    }
   ],
   "source": [
    "class Student:\n",
    "    def __init__(self, name, marks):\n",
    "        self.name = name\n",
    "\n",
    "    def get_marks(self):\n",
    "        return self.__marks\n",
    "\n",
    "    def set_marks(self, marks):\n",
    "        if 0 <= marks <= 100:\n",
    "            self.__marks = marks\n",
    "        else:\n",
    "            print(\"Invalid marks! Must be between 0 and 100.\")\n",
    "\n",
    "    def display(self):\n",
    "        print(f\"Name: {self.name}\")\n",
    "        print(f\"Marks: {self.__marks}\")\n",
    "\n",
    "s1 = Student(\"Harsh\", 85)\n",
    "s1.display()\n",
    "\n",
    "\n",
    "print(\"Current Marks:\", s1.get_marks())\n",
    "\n",
    "s1.set_marks(95)\n",
    "s1.display()\n",
    "\n",
    "s1.set_marks(150)  \n"
   ]
  },
  {
   "cell_type": "markdown",
   "metadata": {},
   "source": [
    "# Question 21"
   ]
  },
  {
   "cell_type": "code",
   "execution_count": null,
   "metadata": {},
   "outputs": [
    {
     "name": "stdout",
     "output_type": "stream",
     "text": [
      "Child's Name: Rohan\n",
      "Father's Name: Mr. Raj\n",
      "Father's Job: Engineer\n",
      "Mother's Name: Mrs. Sita\n",
      "Mother's Hobby: Painting\n"
     ]
    }
   ],
   "source": [
    "class Father:\n",
    "    def __init__(self, father_name, father_job):\n",
    "        self.father_name = father_name\n",
    "        self.father_job = father_job\n",
    "\n",
    "    def show_father_info(self):\n",
    "        print(f\"Father's Name: {self.father_name}\")\n",
    "        print(f\"Father's Job: {self.father_job}\")\n",
    "\n",
    "class Mother:\n",
    "    def __init__(self, mother_name, mother_hobby):\n",
    "        self.mother_name = mother_name\n",
    "        self.mother_hobby = mother_hobby\n",
    "\n",
    "    def show_mother_info(self):\n",
    "        print(f\"Mother's Name: {self.mother_name}\")\n",
    "        print(f\"Mother's Hobby: {self.mother_hobby}\")\n",
    "\n",
    "class Child(Father, Mother):\n",
    "    def __init__(self, father_name, father_job, mother_name, mother_hobby, child_name):\n",
    "        Father.__init__(self, father_name, father_job)\n",
    "        Mother.__init__(self, mother_name, mother_hobby)\n",
    "        self.child_name = child_name\n",
    "\n",
    "    def show_child_info(self):\n",
    "        print(f\"Child's Name: {self.child_name}\")\n",
    "        self.show_father_info()\n",
    "        self.show_mother_info()\n",
    "\n",
    "c1 = Child(\"Mr. Raj\", \"Engineer\", \"Mrs. Sita\", \"Painting\", \"Rohan\")\n",
    "c1.show_child_info()\n"
   ]
  }
 ],
 "metadata": {
  "kernelspec": {
   "display_name": "Python 3",
   "language": "python",
   "name": "python3"
  },
  "language_info": {
   "codemirror_mode": {
    "name": "ipython",
    "version": 3
   },
   "file_extension": ".py",
   "mimetype": "text/x-python",
   "name": "python",
   "nbconvert_exporter": "python",
   "pygments_lexer": "ipython3",
   "version": "3.11.9"
  }
 },
 "nbformat": 4,
 "nbformat_minor": 2
}
